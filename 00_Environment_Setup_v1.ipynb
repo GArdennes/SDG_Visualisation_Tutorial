{
  "cells": [
    {
      "cell_type": "markdown",
      "metadata": {
        "id": "view-in-github",
        "colab_type": "text"
      },
      "source": [
        "<a href=\"https://colab.research.google.com/github/GArdennes/SDG_Visualisation_Tutorial/blob/main/00_Environment_Setup_v1.ipynb\" target=\"_parent\"><img src=\"https://colab.research.google.com/assets/colab-badge.svg\" alt=\"Open In Colab\"/></a>"
      ]
    },
    {
      "cell_type": "markdown",
      "id": "5c10f8a8",
      "metadata": {
        "id": "5c10f8a8"
      },
      "source": [
        "# Environment Setup - SDG Data Visualization Project\n",
        "\n",
        "This notebook guides you through setting up your development environment for the SDG Data Visualization project. We'll install all necessary dependencies and verify your setup."
      ]
    },
    {
      "cell_type": "markdown",
      "id": "e34b3102",
      "metadata": {
        "id": "e34b3102"
      },
      "source": [
        "## Learning Objectives\n",
        "\n",
        "By the end of this setup, you will have:\n",
        "- A properly configured Python environment\n",
        "- All required libraries installed\n",
        "- Data access methods configured\n",
        "- Version control setup verified"
      ]
    },
    {
      "cell_type": "code",
      "execution_count": null,
      "id": "6a3b214f",
      "metadata": {
        "colab": {
          "base_uri": "https://localhost:8080/"
        },
        "id": "6a3b214f",
        "outputId": "2471cf6a-c056-4813-ba69-f3b53f2e6ba3"
      },
      "outputs": [
        {
          "output_type": "stream",
          "name": "stdout",
          "text": [
            "Python version: 3.11.13 (main, Jun  4 2025, 08:57:29) [GCC 11.4.0]\n",
            "✓ Python version check passed\n"
          ]
        }
      ],
      "source": [
        "# Check Python version\n",
        "import sys\n",
        "print(f\"Python version: {sys.version}\")\n",
        "# Extract major and minor version from the version string\n",
        "version_info = sys.version_info\n",
        "assert version_info >= (3, 8), \"Python 3.8+ required\"\n",
        "print(\"✓ Python version check passed\")"
      ]
    },
    {
      "cell_type": "code",
      "execution_count": null,
      "id": "6d9e0730",
      "metadata": {
        "colab": {
          "base_uri": "https://localhost:8080/"
        },
        "id": "6d9e0730",
        "outputId": "7a058563-67b2-47cd-dfab-d11289a62e47"
      },
      "outputs": [
        {
          "output_type": "stream",
          "name": "stdout",
          "text": [
            "✓ pandas>=1.3.0 installed successfully\n",
            "✓ numpy>=1.21.0 installed successfully\n",
            "✓ matplotlib>=3.4.0 installed successfully\n",
            "✓ seaborn>=0.11.0 installed successfully\n",
            "✓ plotly>=5.0.0 installed successfully\n",
            "✓ requests>=2.25.0 installed successfully\n",
            "✓ pytest>=6.0.0 installed successfully\n",
            "✓ pydeck>=0.9.0 installed successfully\n"
          ]
        }
      ],
      "source": [
        "# Install required packages\n",
        "import subprocess\n",
        "import sys\n",
        "\n",
        "def install_package(package):\n",
        "    try:\n",
        "        subprocess.check_call([sys.executable, \"-m\", \"pip\", \"install\", package])\n",
        "        print(f\"✓ {package} installed successfully\")\n",
        "    except subprocess.CalledProcessError as e:\n",
        "        print(f\"✗ Failed to install {package}: {e}\")\n",
        "\n",
        "# Core data science packages\n",
        "packages = [\n",
        "    \"pandas>=1.3.0\",\n",
        "    \"numpy>=1.21.0\",\n",
        "    \"matplotlib>=3.4.0\",\n",
        "    \"seaborn>=0.11.0\",\n",
        "    \"plotly>=5.0.0\",\n",
        "    \"requests>=2.25.0\",\n",
        "    \"pytest>=6.0.0\",\n",
        "    \"pydeck>=0.9.0\"\n",
        "]\n",
        "\n",
        "for package in packages:\n",
        "    install_package(package)"
      ]
    },
    {
      "cell_type": "code",
      "execution_count": null,
      "id": "6ae07bf1",
      "metadata": {
        "colab": {
          "base_uri": "https://localhost:8080/"
        },
        "id": "6ae07bf1",
        "outputId": "eb1c6855-dece-4f71-a759-d453176b1c3a"
      },
      "outputs": [
        {
          "output_type": "stream",
          "name": "stdout",
          "text": [
            "✓ All core packages imported successfully\n",
            "Pandas version: 2.2.2\n",
            "NumPy version: 2.0.2\n",
            "Plotly version: 5.24.1\n",
            "Pydeck version: 0.9.1\n"
          ]
        }
      ],
      "source": [
        "# Verify installations\n",
        "import pandas as pd\n",
        "import numpy as np\n",
        "import matplotlib.pyplot as plt\n",
        "import seaborn as sns\n",
        "import plotly as px\n",
        "import requests\n",
        "import pydeck as pdk\n",
        "\n",
        "print(\"✓ All core packages imported successfully\")\n",
        "print(f\"Pandas version: {pd.__version__}\")\n",
        "print(f\"NumPy version: {np.__version__}\")\n",
        "print(f\"Plotly version: {px.__version__}\")\n",
        "print(f\"Pydeck version: {pdk.__version__}\")"
      ]
    },
    {
      "cell_type": "code",
      "source": [
        "!git clone https://github.com/GArdennes/SDG_Visualisation_Tutorial.git"
      ],
      "metadata": {
        "id": "B5MB1awZjt7-"
      },
      "id": "B5MB1awZjt7-",
      "execution_count": null,
      "outputs": []
    },
    {
      "cell_type": "code",
      "source": [
        "%rm -rf SDG_Visualisation_Tutorial/00_Environment_Setup_v1.ipynb"
      ],
      "metadata": {
        "id": "goNEnCE7VR81"
      },
      "id": "goNEnCE7VR81",
      "execution_count": null,
      "outputs": []
    },
    {
      "cell_type": "markdown",
      "id": "98edad14",
      "metadata": {
        "id": "98edad14"
      },
      "source": [
        "## Data Access Setup\n",
        "\n",
        "Configure access to SDG data sources and verify connectivity."
      ]
    },
    {
      "cell_type": "code",
      "execution_count": null,
      "id": "f27e0bec",
      "metadata": {
        "colab": {
          "base_uri": "https://localhost:8080/"
        },
        "id": "f27e0bec",
        "outputId": "d6ba7663-dbf5-4531-e5c6-d044f17e3fe8"
      },
      "outputs": [
        {
          "output_type": "stream",
          "name": "stdout",
          "text": [
            "✓ API accessible\n",
            "✓ API accessible\n",
            "✓ API accessible\n"
          ]
        }
      ],
      "source": [
        "# Test UN SDG API access\n",
        "\n",
        "urls = [\n",
        "    \"https://unstats.un.org/SDGAPI/v1/sdg/Goal/List\", # Link for the list of goals and information regarding them\n",
        "    'https://unstats.un.org/sdgs/UNSDGAPIV5/v1/sdg/DataAvailability/CountriesList', # Link for the list of countries with SDG data\n",
        "    \"https://restcountries.com/v3.1/all?fields=name\", # Link for information regarding all the countries in the world\n",
        "]\n",
        "\n",
        "def test_sdg_api(url):\n",
        "    try:\n",
        "        response = requests.get(url, timeout=10)\n",
        "        if response.status_code == 200:\n",
        "            print(\"✓ API is accessible\")\n",
        "            data = response.json()\n",
        "            # Uncomment to view outputs\n",
        "            # if isinstance(data, list) and len(data) > 0 and all(isinstance(item, dict) for item in data):\n",
        "            #     for item in data:\n",
        "            #         for key, value in item.items():\n",
        "            #             print(f\"{key}: {value}\\n\")\n",
        "            #     return True\n",
        "            # else:\n",
        "            #     print(f\"✗ Unexpected response format: {data}\")\n",
        "            #     return False\n",
        "            return True\n",
        "        else:\n",
        "            print(f\"✗ API returned status {response.status_code}\")\n",
        "            return False\n",
        "    except Exception as e:\n",
        "        print(f\"✗ API connection failed: {e}\")\n",
        "        return False\n",
        "\n",
        "for url in urls:\n",
        "    test_sdg_api(url)"
      ]
    },
    {
      "cell_type": "code",
      "execution_count": null,
      "id": "66e778f6",
      "metadata": {
        "id": "66e778f6",
        "colab": {
          "base_uri": "https://localhost:8080/"
        },
        "outputId": "8a86867d-15aa-4abc-cc44-49743b73722d"
      },
      "outputs": [
        {
          "output_type": "stream",
          "name": "stdout",
          "text": [
            "✓ Directory exists: data\n",
            "✓ Directory exists: notebooks/lectures\n",
            "✓ Directory exists: notebooks/exercises\n",
            "✓ Directory exists: notebooks/labs\n"
          ]
        }
      ],
      "source": [
        "# Verify project structure\n",
        "import os\n",
        "\n",
        "directories = [\n",
        "    \"SDG_Visualisation_Tutorial/data\",\n",
        "    \"SDG_Visualisation_Tutorial/notebooks/lectures\",\n",
        "    \"SDG_Visualisation_Tutorial/notebooks/exercises\",\n",
        "    \"SDG_Visualisation_Tutorial/notebooks/labs\",\n",
        "]\n",
        "\n",
        "for directory in directories:\n",
        "    if os.path.exists(directory):\n",
        "        print(f\"✓ Directory exists: {directory}\")\n",
        "    else:\n",
        "        print(f\"✗ Directory does not exist: {directory}\")\n",
        "        os.makedirs(directory)\n",
        "        print(f\"✓ Directory created: {directory}\")"
      ]
    },
    {
      "cell_type": "markdown",
      "metadata": {
        "id": "900c5dfe"
      },
      "source": [
        "You can access the directories you created using standard file system commands within a code cell. For example, you can use the `ls` command to list the contents of a directory:"
      ],
      "id": "900c5dfe"
    },
    {
      "cell_type": "markdown",
      "metadata": {
        "id": "5a3d7faf"
      },
      "source": [
        "You can also navigate through the directories using the file browser on the left sidebar of your Colab notebook."
      ],
      "id": "5a3d7faf"
    },
    {
      "cell_type": "code",
      "source": [
        "URL = \"https://hub.arcgis.com/api/v3/datasets/eae2def2bf3c4c01b9ff358fcd1a5a13_0/downloads/data?format=csv&spatialRefId=3857&where=1%3D1\"\n",
        "\n",
        "try:\n",
        "    response = requests.get(URL)\n",
        "    response.raise_for_status() # Raise an exception for bad status codes\n",
        "\n",
        "    # Use StringIO to treat the string content as a file\n",
        "    from io import StringIO\n",
        "    data = StringIO(response.text)\n",
        "\n",
        "    # Save CSV file for later reference\n",
        "    file_path = \"data/sdg_data.csv\"\n",
        "    with open(file_path, 'w', encoding='utf-8') as f:\n",
        "        f.write(response.text)\n",
        "    print(f\"✓ Data saved successfully to {file_path}\")\n",
        "\n",
        "\n",
        "    # Load the data into a pandas DataFrame\n",
        "    # df = pd.read_csv(data)\n",
        "    # print(\"✓ Data loaded successfully into a DataFrame:\")\n",
        "    # print(df.head()) # Print the first few rows to verify\n",
        "\n",
        "\n",
        "except requests.exceptions.RequestException as e:\n",
        "    print(f\"✗ Failed to load data from API: {e}\")\n",
        "except pd.errors.EmptyDataError:\n",
        "    print(\"✗ The response from the API is empty.\")\n",
        "except Exception as e:\n",
        "    print(f\"An unexpected error occurred: {e}\")"
      ],
      "metadata": {
        "colab": {
          "base_uri": "https://localhost:8080/"
        },
        "id": "1RZ3TFL8A_ft",
        "outputId": "927cb3b7-2454-42df-8f18-b379c44b26b0"
      },
      "id": "1RZ3TFL8A_ft",
      "execution_count": null,
      "outputs": [
        {
          "output_type": "stream",
          "name": "stdout",
          "text": [
            "✓ Data saved successfully to data/raw/sdg_data.csv\n"
          ]
        }
      ]
    },
    {
      "cell_type": "markdown",
      "id": "7317d159",
      "metadata": {
        "id": "7317d159"
      },
      "source": [
        "## Environment Verification\n",
        "\n",
        "Run comprehensive tests to ensure everything is working correctly."
      ]
    },
    {
      "cell_type": "code",
      "execution_count": null,
      "id": "d1d7c631",
      "metadata": {
        "id": "d1d7c631"
      },
      "outputs": [],
      "source": [
        "# Environment verification test suite\n",
        "def run_verification_tests():\n",
        "    tests_passed = 0\n",
        "    total_tests = 0\n",
        "\n",
        "    # Test 1: Package imports\n",
        "    total_tests += 1\n",
        "    try:\n",
        "        import pandas, numpy, matplotlib, seaborn, plotly, requests\n",
        "        print(\"✓ Test 1: Package imports - PASSED\")\n",
        "        tests_passed += 1\n",
        "    except ImportError as e:\n",
        "        print(f\"✗ Test 1: Package imports - FAILED: {e}\")\n",
        "\n",
        "    # Test 2: Data creation\n",
        "    total_tests += 1\n",
        "    try:\n",
        "        df = pd.DataFrame({'x': [1, 2, 3], 'y': [4, 5, 6]})\n",
        "        assert len(df) == 3\n",
        "        print(\"✓ Test 2: Data creation - PASSED\")\n",
        "        tests_passed += 1\n",
        "    except Exception as e:\n",
        "        print(f\"✗ Test 2: Data creation - FAILED: {e}\")\n",
        "\n",
        "    # Test 3: Visualization\n",
        "    total_tests += 1\n",
        "    try:\n",
        "        fig = px.scatter(df, x='x', y='y')\n",
        "        print(\"✓ Test 3: Visualization - PASSED\")\n",
        "        tests_passed += 1\n",
        "    except Exception as e:\n",
        "        print(f\"✗ Test 3: Visualization - FAILED: {e}\")\n",
        "\n",
        "    print(f\"\\nVerification Results: {tests_passed}/{total_tests} tests passed\")\n",
        "    return tests_passed == total_tests\n",
        "\n",
        "verification_passed = run_verification_tests()"
      ]
    },
    {
      "cell_type": "markdown",
      "id": "6b0ec308",
      "metadata": {
        "id": "6b0ec308"
      },
      "source": [
        "## Success Criteria\n",
        "\n",
        "Your environment is ready when:\n",
        "- ✓ All package imports work without errors\n",
        "- ✓ API is accessible\n",
        "- ✓ Project directories are created\n",
        "- ✓ Data iss loaded in directory\n",
        "\n",
        "**Next Steps:** Proceed to `01_Lecture_Introduction_SDGs_v1.ipynb`"
      ]
    }
  ],
  "metadata": {
    "kernelspec": {
      "display_name": "Python 3",
      "language": "python",
      "name": "python3"
    },
    "language_info": {
      "codemirror_mode": {
        "name": "ipython",
        "version": 3
      },
      "file_extension": ".py",
      "mimetype": "text/x-python",
      "name": "python",
      "nbconvert_exporter": "python",
      "pygments_lexer": "ipython3",
      "version": "3.12.6"
    },
    "colab": {
      "provenance": [],
      "include_colab_link": true
    }
  },
  "nbformat": 4,
  "nbformat_minor": 5
}