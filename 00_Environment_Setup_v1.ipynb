{
  "cells": [
    {
      "cell_type": "markdown",
      "metadata": {
        "id": "view-in-github",
        "colab_type": "text"
      },
      "source": [
        "<a href=\"https://colab.research.google.com/github/GArdennes/SDG_Visualisation_Tutorial/blob/main/00_Environment_Setup_v1.ipynb\" target=\"_parent\"><img src=\"https://colab.research.google.com/assets/colab-badge.svg\" alt=\"Open In Colab\"/></a>"
      ]
    },
    {
      "cell_type": "markdown",
      "id": "5c10f8a8",
      "metadata": {
        "id": "5c10f8a8"
      },
      "source": [
        "# Environment Setup - SDG Data Visualization Project\n",
        "\n",
        "This notebook guides you through setting up your development environment for the SDG Data Visualization project. We'll install all necessary dependencies and verify your setup."
      ]
    },
    {
      "cell_type": "markdown",
      "id": "e34b3102",
      "metadata": {
        "id": "e34b3102"
      },
      "source": [
        "## Learning Objectives\n",
        "\n",
        "By the end of this setup, you will have:\n",
        "- A properly configured Python environment\n",
        "- All required libraries installed\n",
        "- Data access methods configured\n",
        "- Version control setup verified"
      ]
    },
    {
      "cell_type": "code",
      "execution_count": null,
      "id": "6a3b214f",
      "metadata": {
        "colab": {
          "base_uri": "https://localhost:8080/"
        },
        "id": "6a3b214f",
        "outputId": "2471cf6a-c056-4813-ba69-f3b53f2e6ba3"
      },
      "outputs": [
        {
          "output_type": "stream",
          "name": "stdout",
          "text": [
            "Python version: 3.11.13 (main, Jun  4 2025, 08:57:29) [GCC 11.4.0]\n",
            "✓ Python version check passed\n"
          ]
        }
      ],
      "source": [
        "# Check Python version\n",
        "import sys\n",
        "print(f\"Python version: {sys.version}\")\n",
        "# Extract major and minor version from the version string\n",
        "version_info = sys.version_info\n",
        "assert version_info >= (3, 8), \"Python 3.8+ required\"\n",
        "print(\"✓ Python version check passed\")"
      ]
    },
    {
      "cell_type": "code",
      "execution_count": 7,
      "id": "6d9e0730",
      "metadata": {
        "colab": {
          "base_uri": "https://localhost:8080/"
        },
        "id": "6d9e0730",
        "outputId": "daed0398-910b-44da-8d92-688b35bd0b3e"
      },
      "outputs": [
        {
          "output_type": "stream",
          "name": "stdout",
          "text": [
            "✓ pandas>=1.3.0 installed successfully\n",
            "✓ numpy>=1.21.0 installed successfully\n",
            "✓ matplotlib>=3.4.0 installed successfully\n",
            "✓ seaborn>=0.11.0 installed successfully\n",
            "✓ plotly>=5.0.0 installed successfully\n",
            "✓ requests>=2.25.0 installed successfully\n",
            "✓ pytest>=6.0.0 installed successfully\n",
            "✓ pydeck>=0.9.0 installed successfully\n"
          ]
        }
      ],
      "source": [
        "# Install required packages\n",
        "import subprocess\n",
        "import sys\n",
        "\n",
        "def install_package(package):\n",
        "    try:\n",
        "        subprocess.check_call([sys.executable, \"-m\", \"pip\", \"install\", package])\n",
        "        print(f\"✓ {package} installed successfully\")\n",
        "    except subprocess.CalledProcessError as e:\n",
        "        print(f\"✗ Failed to install {package}: {e}\")\n",
        "\n",
        "# Core data science packages\n",
        "packages = [\n",
        "    \"pandas>=1.3.0\",\n",
        "    \"numpy>=1.21.0\",\n",
        "    \"matplotlib>=3.4.0\",\n",
        "    \"seaborn>=0.11.0\",\n",
        "    \"plotly>=5.0.0\",\n",
        "    \"requests>=2.25.0\",\n",
        "    \"pytest>=6.0.0\",\n",
        "    \"pydeck>=0.9.0\"\n",
        "]\n",
        "\n",
        "for package in packages:\n",
        "    install_package(package)"
      ]
    },
    {
      "cell_type": "code",
      "execution_count": 8,
      "id": "6ae07bf1",
      "metadata": {
        "colab": {
          "base_uri": "https://localhost:8080/"
        },
        "id": "6ae07bf1",
        "outputId": "124ad078-0a67-4976-a92e-7dfeec59ed6f"
      },
      "outputs": [
        {
          "output_type": "stream",
          "name": "stdout",
          "text": [
            "✓ All core packages imported successfully\n",
            "Pandas version: 2.2.2\n",
            "NumPy version: 2.0.2\n",
            "Plotly version: 5.24.1\n",
            "Pydeck version: 0.9.1\n"
          ]
        }
      ],
      "source": [
        "# Verify installations\n",
        "import pandas as pd\n",
        "import numpy as np\n",
        "import matplotlib.pyplot as plt\n",
        "import seaborn as sns\n",
        "import plotly as px\n",
        "import requests\n",
        "import pydeck as pdk\n",
        "\n",
        "print(\"✓ All core packages imported successfully\")\n",
        "print(f\"Pandas version: {pd.__version__}\")\n",
        "print(f\"NumPy version: {np.__version__}\")\n",
        "print(f\"Plotly version: {px.__version__}\")\n",
        "print(f\"Pydeck version: {pdk.__version__}\")"
      ]
    },
    {
      "cell_type": "code",
      "source": [
        "!git clone https://github.com/GArdennes/SDG_Visualisation_Tutorial.git"
      ],
      "metadata": {
        "id": "B5MB1awZjt7-",
        "colab": {
          "base_uri": "https://localhost:8080/"
        },
        "outputId": "88140397-3303-4bbd-e29a-7be1be52e452"
      },
      "id": "B5MB1awZjt7-",
      "execution_count": 1,
      "outputs": [
        {
          "output_type": "stream",
          "name": "stdout",
          "text": [
            "Cloning into 'SDG_Visualisation_Tutorial'...\n",
            "remote: Enumerating objects: 30, done.\u001b[K\n",
            "remote: Counting objects: 100% (30/30), done.\u001b[K\n",
            "remote: Compressing objects: 100% (26/26), done.\u001b[K\n",
            "remote: Total 30 (delta 11), reused 0 (delta 0), pack-reused 0 (from 0)\u001b[K\n",
            "Receiving objects: 100% (30/30), 11.74 KiB | 3.91 MiB/s, done.\n",
            "Resolving deltas: 100% (11/11), done.\n"
          ]
        }
      ]
    },
    {
      "cell_type": "code",
      "source": [
        "%rm -rf SDG_Visualisation_Tutorial/00_Environment_Setup_v1.ipynb"
      ],
      "metadata": {
        "id": "goNEnCE7VR81"
      },
      "id": "goNEnCE7VR81",
      "execution_count": 2,
      "outputs": []
    },
    {
      "cell_type": "markdown",
      "id": "98edad14",
      "metadata": {
        "id": "98edad14"
      },
      "source": [
        "## Data Access Setup\n",
        "\n",
        "Configure access to SDG data sources and verify connectivity."
      ]
    },
    {
      "cell_type": "code",
      "execution_count": null,
      "id": "f27e0bec",
      "metadata": {
        "colab": {
          "base_uri": "https://localhost:8080/"
        },
        "id": "f27e0bec",
        "outputId": "d6ba7663-dbf5-4531-e5c6-d044f17e3fe8"
      },
      "outputs": [
        {
          "output_type": "stream",
          "name": "stdout",
          "text": [
            "✓ API accessible\n",
            "✓ API accessible\n",
            "✓ API accessible\n"
          ]
        }
      ],
      "source": [
        "# Test API access\n",
        "\n",
        "urls = [\n",
        "    \"https://unstats.un.org/SDGAPI/v1/sdg/Goal/List\", # Link for the list of goals and information regarding them\n",
        "    'https://unstats.un.org/sdgs/UNSDGAPIV5/v1/sdg/DataAvailability/CountriesList', # Link for the list of countries with SDG data\n",
        "    \"https://restcountries.com/v3.1/all?fields=name\", # Link for information regarding all the countries in the world\n",
        "]\n",
        "\n",
        "def test_sdg_api(url):\n",
        "    try:\n",
        "        response = requests.get(url, timeout=10)\n",
        "        if response.status_code == 200:\n",
        "            print(\"✓ API is accessible\")\n",
        "            data = response.json()\n",
        "            # Uncomment to view outputs\n",
        "            # if isinstance(data, list) and len(data) > 0 and all(isinstance(item, dict) for item in data):\n",
        "            #     for item in data:\n",
        "            #         for key, value in item.items():\n",
        "            #             print(f\"{key}: {value}\\n\")\n",
        "            #     return True\n",
        "            # else:\n",
        "            #     print(f\"✗ Unexpected response format: {data}\")\n",
        "            #     return False\n",
        "            return True\n",
        "        else:\n",
        "            print(f\"✗ API returned status {response.status_code}\")\n",
        "            return False\n",
        "    except Exception as e:\n",
        "        print(f\"✗ API connection failed: {e}\")\n",
        "        return False\n",
        "\n",
        "for url in urls:\n",
        "    test_sdg_api(url)"
      ]
    },
    {
      "cell_type": "code",
      "execution_count": 3,
      "id": "66e778f6",
      "metadata": {
        "id": "66e778f6",
        "colab": {
          "base_uri": "https://localhost:8080/"
        },
        "outputId": "bf34ef79-669c-4626-bd1e-6108c3177b28"
      },
      "outputs": [
        {
          "output_type": "stream",
          "name": "stdout",
          "text": [
            "✓ Directory exists: SDG_Visualisation_Tutorial/data\n",
            "✓ Directory exists: SDG_Visualisation_Tutorial/notebooks/lectures\n",
            "✓ Directory exists: SDG_Visualisation_Tutorial/notebooks/exercises\n",
            "✓ Directory exists: SDG_Visualisation_Tutorial/notebooks/labs\n"
          ]
        }
      ],
      "source": [
        "# Verify project structure\n",
        "import os\n",
        "\n",
        "directories = [\n",
        "    \"SDG_Visualisation_Tutorial/data\",\n",
        "    \"SDG_Visualisation_Tutorial/notebooks/lectures\",\n",
        "    \"SDG_Visualisation_Tutorial/notebooks/exercises\",\n",
        "    \"SDG_Visualisation_Tutorial/notebooks/labs\",\n",
        "]\n",
        "\n",
        "for directory in directories:\n",
        "    if os.path.exists(directory):\n",
        "        print(f\"✓ Directory exists: {directory}\")\n",
        "    else:\n",
        "        print(f\"✗ Directory does not exist: {directory}\")\n",
        "        os.makedirs(directory)\n",
        "        print(f\"✓ Directory created: {directory}\")"
      ]
    },
    {
      "cell_type": "markdown",
      "metadata": {
        "id": "900c5dfe"
      },
      "source": [
        "You can access the directories using standard file system commands within a code cell. For example, you can use the `!ls` command to list the contents of a directory."
      ],
      "id": "900c5dfe"
    },
    {
      "cell_type": "markdown",
      "metadata": {
        "id": "5a3d7faf"
      },
      "source": [
        "You can also navigate through the directories using the file browser on the left sidebar of your Colab notebook."
      ],
      "id": "5a3d7faf"
    },
    {
      "cell_type": "code",
      "source": [
        "URL = \"https://hub.arcgis.com/api/v3/datasets/eae2def2bf3c4c01b9ff358fcd1a5a13_0/downloads/data?format=csv&spatialRefId=3857&where=1%3D1\" # SDG 2025 REPORT\n",
        "\n",
        "try:\n",
        "    response = requests.get(URL)\n",
        "    response.raise_for_status() # Raise an exception for bad status codes\n",
        "\n",
        "    # Use StringIO to treat the string content as a file\n",
        "    from io import StringIO\n",
        "    data = StringIO(response.text)\n",
        "\n",
        "    # Save CSV file for later reference\n",
        "    file_path = \"SDG_Visualisation_Tutorial/data/sdg_data.csv\"\n",
        "    with open(file_path, 'w', encoding='utf-8') as f:\n",
        "        f.write(response.text)\n",
        "    print(f\"✓ Data saved successfully to {file_path}\")\n",
        "\n",
        "    # Load the data into a pandas DataFrame\n",
        "    df = pd.read_csv(data)\n",
        "    print(\"✓ Data loaded successfully into a DataFrame:\")\n",
        "    print(df.head()) # Print the first few rows to verify the data output\n",
        "\n",
        "\n",
        "except requests.exceptions.RequestException as e:\n",
        "    print(f\"✗ Failed to load data from API: {e}\")\n",
        "except pd.errors.EmptyDataError:\n",
        "    print(\"✗ The response from the API is empty.\")\n",
        "except Exception as e:\n",
        "    print(f\"An unexpected error occurred: {e}\")"
      ],
      "metadata": {
        "colab": {
          "base_uri": "https://localhost:8080/"
        },
        "id": "1RZ3TFL8A_ft",
        "outputId": "ee07fcff-d4ea-4a93-e171-53bffceaba00"
      },
      "id": "1RZ3TFL8A_ft",
      "execution_count": 9,
      "outputs": [
        {
          "output_type": "stream",
          "name": "stdout",
          "text": [
            "✓ Data saved successfully to SDG_Visualisation_Tutorial/data/sdg_data.csv\n",
            "✓ Data loaded successfully into a DataFrame:\n",
            "  ï»¿iso3              Name  Overall_Score  Overall_Rank  Spillover_Score  \\\n",
            "0     MNG          Mongolia      66.749047         100.0        92.467846   \n",
            "1     ESP             Spain      81.037864          14.0        69.562800   \n",
            "2     CYP            Cyprus      73.755860          56.0        46.334067   \n",
            "3     COD  Congo, Dem. Rep.      48.235735         162.0        94.902929   \n",
            "4     GNB     Guinea-Bissau      53.073429         153.0        89.055500   \n",
            "\n",
            "   Spillover_Rank    IC  progress               Region Goal_1_Rating  ...  \\\n",
            "0            69.0  UMIC     7.662    East & South Asia         green  ...   \n",
            "1           136.0   HIC     2.730                 OECD        yellow  ...   \n",
            "2           163.0   HIC     4.327  E. Europe & C. Asia         green  ...   \n",
            "3            39.0   LIC     5.121   Sub-Saharan Africa           red  ...   \n",
            "4            94.0   LIC       NaN   Sub-Saharan Africa           red  ...   \n",
            "\n",
            "  Goal_11_Score_reg Goal_12_Score_reg Goal_13_Score_reg Goal_14_Score_reg  \\\n",
            "0         65.537978         77.954664         83.729895         61.512600   \n",
            "1         94.042408         58.451979         73.317079         63.397362   \n",
            "2         84.669783         75.640405         84.610674         63.253842   \n",
            "3         57.306788         92.914692         96.963757         67.021076   \n",
            "4         57.306788         92.914692         96.963757         67.021076   \n",
            "\n",
            "  Goal_15_Score_reg Goal_16_Score_reg Goal_17_Score_reg           x  \\\n",
            "0         55.004292         60.092537         63.645575  105.574536   \n",
            "1         70.569191         79.913873         69.569103   -3.557007   \n",
            "2         73.796724         64.877297         69.436342   33.221763   \n",
            "3         66.346338         49.194879         62.805388   23.400058   \n",
            "4         66.346338         49.194879         62.805388  -14.518245   \n",
            "\n",
            "           y ObjectId  \n",
            "0  46.204958        1  \n",
            "1  40.391352        2  \n",
            "2  35.045883        3  \n",
            "3  -1.095130        4  \n",
            "4  12.244815        5  \n",
            "\n",
            "[5 rows x 685 columns]\n"
          ]
        }
      ]
    },
    {
      "cell_type": "markdown",
      "id": "7317d159",
      "metadata": {
        "id": "7317d159"
      },
      "source": [
        "## Environment Verification\n",
        "\n",
        "Run comprehensive tests to ensure everything is working correctly."
      ]
    },
    {
      "cell_type": "code",
      "execution_count": 10,
      "id": "d1d7c631",
      "metadata": {
        "id": "d1d7c631",
        "colab": {
          "base_uri": "https://localhost:8080/"
        },
        "outputId": "39b28f00-bd0e-4ec8-9771-aa4020e84845"
      },
      "outputs": [
        {
          "output_type": "stream",
          "name": "stdout",
          "text": [
            "✓ Test 1: Package imports - PASSED\n",
            "✓ Test 2: Data creation - PASSED\n"
          ]
        }
      ],
      "source": [
        "# Environment verification test suite\n",
        "def run_verification_tests():\n",
        "    tests_passed = 0\n",
        "    total_tests = 0\n",
        "\n",
        "    # Test 1: Package imports\n",
        "    total_tests += 1\n",
        "    try:\n",
        "        import pandas, numpy, matplotlib, seaborn, plotly, requests\n",
        "        print(\"✓ Test 1: Package imports - PASSED\")\n",
        "        tests_passed += 1\n",
        "    except ImportError as e:\n",
        "        print(f\"✗ Test 1: Package imports - FAILED: {e}\")\n",
        "\n",
        "    # Test 2: Data creation\n",
        "    total_tests += 1\n",
        "    try:\n",
        "        assert len(df) >= 3\n",
        "        print(\"✓ Test 2: Data creation - PASSED\")\n",
        "        tests_passed += 1\n",
        "    except Exception as e:\n",
        "        print(f\"✗ Test 2: Data creation - FAILED: {e}\")\n",
        "\n",
        "verification_passed = run_verification_tests()"
      ]
    },
    {
      "cell_type": "markdown",
      "id": "6b0ec308",
      "metadata": {
        "id": "6b0ec308"
      },
      "source": [
        "## Success Criteria\n",
        "\n",
        "Your environment is ready when:\n",
        "- ✓ All package imports work without errors\n",
        "- ✓ API is accessible\n",
        "- ✓ Project directories are created\n",
        "- ✓ Data is loaded into a directory\n",
        "\n",
        "**Next Steps:** Proceed to `01_Lecture_Introduction_SDGs_v1.ipynb`"
      ]
    }
  ],
  "metadata": {
    "kernelspec": {
      "display_name": "Python 3",
      "language": "python",
      "name": "python3"
    },
    "language_info": {
      "codemirror_mode": {
        "name": "ipython",
        "version": 3
      },
      "file_extension": ".py",
      "mimetype": "text/x-python",
      "name": "python",
      "nbconvert_exporter": "python",
      "pygments_lexer": "ipython3",
      "version": "3.12.6"
    },
    "colab": {
      "provenance": [],
      "include_colab_link": true
    }
  },
  "nbformat": 4,
  "nbformat_minor": 5
}